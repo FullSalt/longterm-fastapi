{
 "cells": [
  {
   "cell_type": "code",
   "execution_count": 40,
   "metadata": {},
   "outputs": [],
   "source": [
    "import requests\n",
    "import json"
   ]
  },
  {
   "cell_type": "code",
   "execution_count": 41,
   "metadata": {},
   "outputs": [
    {
     "name": "stdout",
     "output_type": "stream",
     "text": [
      "https://longterm-firstapi.onrender.com/make_predictions\n"
     ]
    }
   ],
   "source": [
    "FASTAPI_SERVER = \"http://127.0.0.1:8000\"\n",
    "FASTAPI_SERVER = \"https://longterm-firstapi.onrender.com\"\n",
    "url = f\"{FASTAPI_SERVER}/make_predictions\"\n",
    "print(url)"
   ]
  },
  {
   "cell_type": "code",
   "execution_count": 42,
   "metadata": {},
   "outputs": [],
   "source": [
    "# ヘッダーの設定。サーバーにこのリクエストがJSON形式のボディを含んでいることを伝えます。\n",
    "headers = {\n",
    "    'Content-Type': 'application/json',\n",
    "    'accept': 'application/json'\n",
    "}"
   ]
  },
  {
   "cell_type": "code",
   "execution_count": 54,
   "metadata": {},
   "outputs": [],
   "source": [
    "# 送信するデータ。この場合、Irisデータセットの特徴量です。\n",
    "data = {\n",
    "    \"sepal_length\": 5.1,\n",
    "    \"sepal_width\": 3.5,\n",
    "    \"petal_length\": 1.4,\n",
    "    \"petal_width\": \"0.2\"\n",
    "}\n",
    "# data = {\n",
    "#     \"sepal_length\": 5.9,\n",
    "#     \"sepal_width\": 3.0,\n",
    "#     \"petal_length\": 5.1,\n",
    "#     \"petal_width\": 1.8\n",
    "# }"
   ]
  },
  {
   "cell_type": "code",
   "execution_count": 29,
   "metadata": {},
   "outputs": [
    {
     "data": {
      "text/plain": [
       "'{\"sepal_length\": 5.9, \"sepal_width\": 3.0, \"petal_length\": 5.1, \"petal_width\": 1.8}'"
      ]
     },
     "execution_count": 29,
     "metadata": {},
     "output_type": "execute_result"
    }
   ],
   "source": [
    "# データをJSONに変換\n",
    "json.dumps(data)"
   ]
  },
  {
   "cell_type": "code",
   "execution_count": 55,
   "metadata": {},
   "outputs": [
    {
     "name": "stdout",
     "output_type": "stream",
     "text": [
      "<Response [200]>\n"
     ]
    }
   ],
   "source": [
    "# リクエストの送信。データはJSONに変換されます。\n",
    "response = requests.post(url, headers=headers, data=json.dumps(data))\n",
    "print(response)"
   ]
  },
  {
   "cell_type": "code",
   "execution_count": 56,
   "metadata": {},
   "outputs": [
    {
     "name": "stdout",
     "output_type": "stream",
     "text": [
      "Server responded with:  {'prediction': '0'}\n"
     ]
    },
    {
     "ename": "",
     "evalue": "",
     "output_type": "error",
     "traceback": [
      "\u001b[1;31mThe Kernel crashed while executing code in the the current cell or a previous cell. Please review the code in the cell(s) to identify a possible cause of the failure. Click <a href='https://aka.ms/vscodeJupyterKernelCrash'>here</a> for more info. View Jupyter <a href='command:jupyter.viewOutput'>log</a> for further details."
     ]
    }
   ],
   "source": [
    "# サーバーからのレスポンスを確認します。\n",
    "if response.status_code == 200:\n",
    "    # 成功した場合、予測結果を表示します。\n",
    "    print(\"Server responded with: \", response.json())\n",
    "else:\n",
    "    # サーバーからエラーが返された場合、エラー情報を表示します。\n",
    "    print(\"Failed to retrieve response. Status code: \", response.status_code)"
   ]
  }
 ],
 "metadata": {
  "kernelspec": {
   "display_name": "env",
   "language": "python",
   "name": "python3"
  },
  "language_info": {
   "codemirror_mode": {
    "name": "ipython",
    "version": 3
   },
   "file_extension": ".py",
   "mimetype": "text/x-python",
   "name": "python",
   "nbconvert_exporter": "python",
   "pygments_lexer": "ipython3",
   "version": "3.9.13"
  }
 },
 "nbformat": 4,
 "nbformat_minor": 2
}
