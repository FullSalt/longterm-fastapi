{
 "cells": [
  {
   "cell_type": "code",
   "execution_count": 1,
   "metadata": {},
   "outputs": [],
   "source": [
    "import requests\n",
    "import json"
   ]
  },
  {
   "cell_type": "code",
   "execution_count": 10,
   "metadata": {},
   "outputs": [
    {
     "name": "stdout",
     "output_type": "stream",
     "text": [
      "http://127.0.0.1:8000/make_predictions\n"
     ]
    }
   ],
   "source": [
    "FASTAPI_SERVER = \"http://127.0.0.1:8000\" # ロカールサーバで動かす場合\n",
    "# FASTAPI_SERVER = \"https://longterm-firstapi.onrender.com\" # Rebderにデプロイしたものを使用する場合\n",
    "url = f\"{FASTAPI_SERVER}/make_predictions\"\n",
    "print(url)"
   ]
  },
  {
   "cell_type": "code",
   "execution_count": 11,
   "metadata": {},
   "outputs": [],
   "source": [
    "# ヘッダーの設定。サーバーにこのリクエストがJSON形式のボディを含んでいることを伝えます。\n",
    "headers = {\n",
    "    'Content-Type': 'application/json',\n",
    "    'accept': 'application/json'\n",
    "}"
   ]
  },
  {
   "cell_type": "code",
   "execution_count": 20,
   "metadata": {},
   "outputs": [],
   "source": [
    "# 送信するデータ。この場合、Irisデータセットの特徴量です。\n",
    "data = {\n",
    "    \"sepal_length\": 5.1,\n",
    "    \"sepal_width\": 3.5,\n",
    "    \"petal_length\": 1.4,\n",
    "    \"petal_width\": \"0.2\"\n",
    "}\n",
    "data = {\n",
    "    \"sepal_length\": 5.9,\n",
    "    \"sepal_width\": 3.0,\n",
    "    \"petal_length\": 5.1,\n",
    "    \"petal_width\": 1.8\n",
    "}"
   ]
  },
  {
   "cell_type": "code",
   "execution_count": 21,
   "metadata": {},
   "outputs": [
    {
     "data": {
      "text/plain": [
       "'{\"sepal_length\": 5.9, \"sepal_width\": 3.0, \"petal_length\": 5.1, \"petal_width\": 1.8}'"
      ]
     },
     "execution_count": 21,
     "metadata": {},
     "output_type": "execute_result"
    }
   ],
   "source": [
    "# データをJSONに変換\n",
    "json.dumps(data)"
   ]
  },
  {
   "cell_type": "code",
   "execution_count": 22,
   "metadata": {},
   "outputs": [
    {
     "name": "stdout",
     "output_type": "stream",
     "text": [
      "<Response [200]>\n"
     ]
    }
   ],
   "source": [
    "# リクエストの送信。データはJSONに変換されます。\n",
    "response = requests.post(url, headers=headers, data=json.dumps(data))\n",
    "print(response)"
   ]
  },
  {
   "cell_type": "code",
   "execution_count": 23,
   "metadata": {},
   "outputs": [
    {
     "name": "stdout",
     "output_type": "stream",
     "text": [
      "Server responded with:  {'prediction': '[0.   0.03 0.97]'}\n"
     ]
    }
   ],
   "source": [
    "# サーバーからのレスポンスを確認します。\n",
    "if response.status_code == 200:\n",
    "    # 成功した場合、予測結果を表示します。\n",
    "    print(\"Server responded with: \", response.json())\n",
    "else:\n",
    "    # サーバーからエラーが返された場合、エラー情報を表示します。\n",
    "    print(\"Failed to retrieve response. Status code: \", response.status_code)"
   ]
  },
  {
   "cell_type": "code",
   "execution_count": 26,
   "metadata": {},
   "outputs": [
    {
     "data": {
      "text/plain": [
       "('[0.   0.03 0.97]', str)"
      ]
     },
     "execution_count": 26,
     "metadata": {},
     "output_type": "execute_result"
    }
   ],
   "source": [
    "response.json()['prediction'], type(response.json()['prediction'])"
   ]
  },
  {
   "cell_type": "code",
   "execution_count": 28,
   "metadata": {},
   "outputs": [
    {
     "data": {
      "text/plain": [
       "'0.   0.03 0.97'"
      ]
     },
     "execution_count": 28,
     "metadata": {},
     "output_type": "execute_result"
    }
   ],
   "source": [
    "# 文字列から余分な文字を取り除く\n",
    "formatted_str = response.json()['prediction'].strip('[]')\n",
    "formatted_str"
   ]
  },
  {
   "cell_type": "code",
   "execution_count": 30,
   "metadata": {},
   "outputs": [
    {
     "data": {
      "text/plain": [
       "['0.', '0.03', '0.97']"
      ]
     },
     "execution_count": 30,
     "metadata": {},
     "output_type": "execute_result"
    }
   ],
   "source": [
    "# 空白で分割して、各数値を文字列のリストとして取得\n",
    "str_list = formatted_str.split()\n",
    "str_list"
   ]
  },
  {
   "cell_type": "code",
   "execution_count": 31,
   "metadata": {},
   "outputs": [
    {
     "data": {
      "text/plain": [
       "[0.0, 0.03, 0.97]"
      ]
     },
     "execution_count": 31,
     "metadata": {},
     "output_type": "execute_result"
    }
   ],
   "source": [
    "# 各文字列を実数に変換\n",
    "num_list = [float(num_str) for num_str in str_list]\n",
    "num_list"
   ]
  }
 ],
 "metadata": {
  "kernelspec": {
   "display_name": "env",
   "language": "python",
   "name": "python3"
  },
  "language_info": {
   "codemirror_mode": {
    "name": "ipython",
    "version": 3
   },
   "file_extension": ".py",
   "mimetype": "text/x-python",
   "name": "python",
   "nbconvert_exporter": "python",
   "pygments_lexer": "ipython3",
   "version": "3.9.13"
  }
 },
 "nbformat": 4,
 "nbformat_minor": 2
}
